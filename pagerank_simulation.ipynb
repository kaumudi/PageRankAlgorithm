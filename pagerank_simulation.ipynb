{
 "cells": [
  {
   "cell_type": "markdown",
   "metadata": {},
   "source": [
    "### Importing required packages"
   ]
  },
  {
   "cell_type": "code",
   "execution_count": 1,
   "metadata": {},
   "outputs": [],
   "source": [
    "import random"
   ]
  },
  {
   "cell_type": "markdown",
   "metadata": {},
   "source": [
    "### Function to read graph contents"
   ]
  },
  {
   "cell_type": "code",
   "execution_count": 2,
   "metadata": {},
   "outputs": [],
   "source": [
    "def read_graph(fname):\n",
    "    '''\n",
    "    This function reads the file input and returns the nodes and its neighbours \n",
    "    as dictionary, and set of all unique nodes of the input graph.\n",
    "    '''\n",
    "    f = open(fname, \"r\")\n",
    "    dic = {}\n",
    "    tot = []\n",
    "    for line in f:\n",
    "        s = line.split()\n",
    "        if(len(s)==1):\n",
    "            dic[s[0]] = []\n",
    "        else:\n",
    "            dic[s[0]] = s[1:]\n",
    "        tot.append(s)\n",
    "    total = [item for sublist in tot for item in sublist]\n",
    "    total = list(set(total))\n",
    "    return dic,total"
   ]
  },
  {
   "cell_type": "markdown",
   "metadata": {},
   "source": [
    "### Function for random_walk"
   ]
  },
  {
   "cell_type": "code",
   "execution_count": 3,
   "metadata": {},
   "outputs": [],
   "source": [
    "def random_walk(graph, walk_len, beta):\n",
    "    '''\n",
    "    This function reads graph, walk_len, and beta to calculate the current_page we are on.\n",
    "    returns the current page.\n",
    "    '''\n",
    "    total = list(graph.keys())\n",
    "    p = random.randint(0,len(total)-1)\n",
    "    curr_page = total[p]\n",
    "    for i in range(0,walk_len):\n",
    "        r = random.random()\n",
    "        lst = graph[curr_page]\n",
    "        if (r<= beta) and (lst != []):\n",
    "            lst = graph[curr_page]\n",
    "            curr_page = lst[random.randint(0,len(lst)-1)]\n",
    "        else:\n",
    "            curr_page = total[random.randint(0,len(total)-1)]\n",
    "    return curr_page"
   ]
  },
  {
   "cell_type": "markdown",
   "metadata": {},
   "source": [
    "### Function for simulate_pagerank driver function"
   ]
  },
  {
   "cell_type": "code",
   "execution_count": 4,
   "metadata": {},
   "outputs": [],
   "source": [
    "def simulate_pagerank(fname, walk_len, N, beta):\n",
    "    '''\n",
    "    This function is the driver that makes calls to read_graph and random_walk, and calculates \n",
    "    relative frequency of each page i.e page rank of each page. \n",
    "    Prints the output of each node and page rank of corresponding node\n",
    "    '''\n",
    "    random.seed(1)\n",
    "    graph,content = read_graph(fname)\n",
    "    print(graph)\n",
    "    print(content)\n",
    "    dic = dict((t,0) for t in content)\n",
    "    for i in range(0,N):\n",
    "        curr_page = random_walk(graph, walk_len, beta)\n",
    "        dic[curr_page] += 1\n",
    "    print(dic)\n",
    "    dic = {k: v / N for k, v in dic.items()}\n",
    "    keys = sorted(dic)\n",
    "    for k in keys:\n",
    "        print(k,' ',dic[k])"
   ]
  },
  {
   "cell_type": "code",
   "execution_count": 5,
   "metadata": {},
   "outputs": [
    {
     "name": "stdout",
     "output_type": "stream",
     "text": [
      "{'A': ['B', 'C'], 'B': ['C'], 'C': ['A'], 'D': ['C']}\n",
      "['A', 'C', 'D', 'B']\n",
      "{'A': 379, 'C': 370, 'D': 45, 'B': 206}\n",
      "A   0.379\n",
      "B   0.206\n",
      "C   0.37\n",
      "D   0.045\n"
     ]
    }
   ],
   "source": [
    "#code to execute graph-1.txt \n",
    "simulate_pagerank(\"graph-1.txt\", walk_len=1000, N=1000, beta=0.85)"
   ]
  },
  {
   "cell_type": "code",
   "execution_count": 6,
   "metadata": {
    "scrolled": true
   },
   "outputs": [
    {
     "name": "stdout",
     "output_type": "stream",
     "text": [
      "{'A': ['B', 'C'], 'B': ['C', 'D', 'E'], 'C': ['A'], 'D': ['C', 'E'], 'E': ['A']}\n",
      "['E', 'C', 'B', 'A', 'D']\n",
      "{'E': 128, 'C': 270, 'B': 169, 'A': 362, 'D': 71}\n",
      "A   0.362\n",
      "B   0.169\n",
      "C   0.27\n",
      "D   0.071\n",
      "E   0.128\n"
     ]
    }
   ],
   "source": [
    "#code to execute graph-2.txt \n",
    "simulate_pagerank(\"graph-2.txt\", walk_len=1000, N=1000, beta=0.85)"
   ]
  },
  {
   "cell_type": "code",
   "execution_count": 7,
   "metadata": {},
   "outputs": [
    {
     "name": "stdout",
     "output_type": "stream",
     "text": [
      "{'A': [], 'B': ['C'], 'C': ['B'], 'D': ['B', 'A'], 'E': ['B', 'D', 'F'], 'F': ['B', 'E'], 'G': ['B', 'E'], 'H': ['B', 'E'], 'I': ['B', 'E'], 'J': ['E'], 'K': ['E']}\n",
      "['I', 'E', 'C', 'F', 'K', 'H', 'J', 'B', 'G', 'A', 'D']\n",
      "{'I': 161, 'E': 781, 'C': 3495, 'F': 363, 'K': 169, 'H': 163, 'J': 128, 'B': 3859, 'G': 165, 'A': 324, 'D': 392}\n",
      "A   0.0324\n",
      "B   0.3859\n",
      "C   0.3495\n",
      "D   0.0392\n",
      "E   0.0781\n",
      "F   0.0363\n",
      "G   0.0165\n",
      "H   0.0163\n",
      "I   0.0161\n",
      "J   0.0128\n",
      "K   0.0169\n"
     ]
    }
   ],
   "source": [
    "#code to wikipedia-example.txt graph-1.txt \n",
    "simulate_pagerank(\"wikipedia-example.txt\", walk_len=1000, N=10000, beta=0.85)"
   ]
  }
 ],
 "metadata": {
  "kernelspec": {
   "display_name": "Python 3",
   "language": "python",
   "name": "python3"
  },
  "language_info": {
   "codemirror_mode": {
    "name": "ipython",
    "version": 3
   },
   "file_extension": ".py",
   "mimetype": "text/x-python",
   "name": "python",
   "nbconvert_exporter": "python",
   "pygments_lexer": "ipython3",
   "version": "3.6.7"
  }
 },
 "nbformat": 4,
 "nbformat_minor": 2
}
