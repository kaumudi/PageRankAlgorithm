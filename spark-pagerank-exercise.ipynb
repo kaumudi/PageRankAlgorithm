{
 "cells": [
  {
   "cell_type": "markdown",
   "metadata": {},
   "source": [
    "Below is the outline of pyspark code for calculating the pagerank of a graph expressed in the edge vector representation.  For this past of the assignment:\n",
    "\n",
    "1. Complete the code below\n",
    "2. Write doc string comments for all functions documenting what they do\n",
    "3. Test your code on other graphs we've worked in previous assignments\n",
    "\n",
    "I recommend reviewing the (i) the Excel spread sheet calculation we did for simulating the page rank calculation (ii) and slides on pagerank.  Ensure you under the algorithm well before starting on this exercise. \n",
    "\n",
    "Rather than just stating \"Write PySpark code to calculate PageRank\" I've provided some helper functions and sample output along the way to provide guidance.  To faciliate grading, do stay with these functions."
   ]
  },
  {
   "cell_type": "code",
   "execution_count": 1,
   "metadata": {},
   "outputs": [],
   "source": [
    "import findspark\n",
    "findspark.init()\n",
    "from pyspark import SparkContext\n",
    "sc = SparkContext() "
   ]
  },
  {
   "cell_type": "markdown",
   "metadata": {},
   "source": [
    "# page rank"
   ]
  },
  {
   "cell_type": "code",
   "execution_count": 2,
   "metadata": {},
   "outputs": [],
   "source": [
    "def parse_line(line):\n",
    "    '''\n",
    "    Input: String of each line in the input file\n",
    "    Output: A tuple with the node, and its neighbours\n",
    "    Function: This function takes each line input and converts the line into a tuple of each node \n",
    "    and its neighbours.\n",
    "    '''\n",
    "    s = line.split(' ')\n",
    "    lst = s[1:]\n",
    "    return (s[0],lst)"
   ]
  },
  {
   "cell_type": "code",
   "execution_count": 3,
   "metadata": {},
   "outputs": [
    {
     "data": {
      "text/plain": [
       "('A', ['B', 'C'])"
      ]
     },
     "execution_count": 3,
     "metadata": {},
     "output_type": "execute_result"
    }
   ],
   "source": [
    "parse_line('A B C')"
   ]
  },
  {
   "cell_type": "code",
   "execution_count": 4,
   "metadata": {},
   "outputs": [],
   "source": [
    "def read_graph(fname):\n",
    "    '''\n",
    "    Input: This function takes the filename input graph\n",
    "    Output: Returns an RDD of node and its neighbours. \n",
    "    Function: This function takes the file name input and returns the rdd of nodes and neighbours.\n",
    "    '''\n",
    "    lines = sc.textFile(fname)\n",
    "    l = lines.map(lambda x: (parse_line(x)))\n",
    "    return l"
   ]
  },
  {
   "cell_type": "code",
   "execution_count": 6,
   "metadata": {},
   "outputs": [
    {
     "data": {
      "text/plain": [
       "[('A', ['B', 'C']), ('B', ['C']), ('C', ['A']), ('D', ['C'])]"
      ]
     },
     "execution_count": 6,
     "metadata": {},
     "output_type": "execute_result"
    }
   ],
   "source": [
    "read_graph('graph-1.txt').collect()"
   ]
  },
  {
   "cell_type": "markdown",
   "metadata": {},
   "source": [
    "In init_ranks you will need to use what is termed a \"broadcast\" variable. Do read online about these.  Following are some links \n",
    "[link 1](https://jaceklaskowski.gitbooks.io/mastering-apache-spark/spark-broadcast.html), [link 2](https://umbertogriffo.gitbooks.io/apache-spark-best-practices-and-tuning/content/when_to_use_broadcast_variable.html), [link 3](https://spark.apache.org/docs/2.2.0/rdd-programming-guide.html#shared-variables)"
   ]
  },
  {
   "cell_type": "code",
   "execution_count": 7,
   "metadata": {
    "scrolled": true
   },
   "outputs": [],
   "source": [
    "def init_ranks(graph):\n",
    "    '''\n",
    "    Input: This function takes the graph input rdd\n",
    "    Output: Returns a list of nodes and initial ranks for each node\n",
    "    Function: This function assigns each node with a initial rank calculated as 1/length_of_unique_nodes\n",
    "    '''\n",
    "    bc = sc.broadcast(1/graph.count())\n",
    "    lst = graph.map(lambda x:(x[0],bc.value))\n",
    "    return lst"
   ]
  },
  {
   "cell_type": "code",
   "execution_count": 8,
   "metadata": {},
   "outputs": [
    {
     "data": {
      "text/plain": [
       "[('A', 0.25), ('B', 0.25), ('C', 0.25), ('D', 0.25)]"
      ]
     },
     "execution_count": 8,
     "metadata": {},
     "output_type": "execute_result"
    }
   ],
   "source": [
    "g = read_graph('graph-1.txt')\n",
    "init_ranks(g).collect()"
   ]
  },
  {
   "cell_type": "code",
   "execution_count": 9,
   "metadata": {},
   "outputs": [],
   "source": [
    "def calc_partials(x):\n",
    "    '''\n",
    "    Input: Takes a tuple with neighbours and init_ranks calculated above\n",
    "    Output: Returns a tuple of each node and partial rank for every iteration\n",
    "    Function: This function calculates the rank of each neighbour of each node\n",
    "    '''\n",
    "    neigh,rank = x\n",
    "    lst = ((y,rank/len(neigh)) for y in neigh)\n",
    "    return lst"
   ]
  },
  {
   "cell_type": "code",
   "execution_count": 10,
   "metadata": {},
   "outputs": [],
   "source": [
    "def calc_contribs(ranks, graph):\n",
    "    '''\n",
    "    Input: Takes a ranks and graph as input\n",
    "    Output: Returns a tuple of each node neighbours and rank for every iteration\n",
    "    Function: This function calculates the contribution of each neighbour to the rank of each node\n",
    "    '''\n",
    "    g = graph.join(ranks)\n",
    "    res = g.flatMap(lambda x:calc_partials(x[1]))\n",
    "    keys = g.map(lambda x: (x[0],0.0))\n",
    "    return res.union(keys)"
   ]
  },
  {
   "cell_type": "code",
   "execution_count": 11,
   "metadata": {},
   "outputs": [],
   "source": [
    "g = read_graph('graph-1.txt')\n",
    "r = init_ranks(g)"
   ]
  },
  {
   "cell_type": "markdown",
   "metadata": {},
   "source": [
    "Note that when calculating the contributions we have A, B, C, D also paired with 0?  Why?"
   ]
  },
  {
   "cell_type": "markdown",
   "metadata": {},
   "source": [
    "We are pairing A,B,C,D with 0 because to handle the condition/track of when these nodes does not have any linkage i.e if any of the node is not all linked to other nodes."
   ]
  },
  {
   "cell_type": "code",
   "execution_count": 12,
   "metadata": {},
   "outputs": [
    {
     "data": {
      "text/plain": [
       "[('A', 0.25),\n",
       " ('B', 0.125),\n",
       " ('C', 0.125),\n",
       " ('C', 0.25),\n",
       " ('C', 0.25),\n",
       " ('C', 0.0),\n",
       " ('A', 0.0),\n",
       " ('B', 0.0),\n",
       " ('D', 0.0)]"
      ]
     },
     "execution_count": 12,
     "metadata": {},
     "output_type": "execute_result"
    }
   ],
   "source": [
    "c1 = calc_contribs(r, g)\n",
    "c1.collect()"
   ]
  },
  {
   "cell_type": "code",
   "execution_count": 17,
   "metadata": {},
   "outputs": [],
   "source": [
    "def calc_ranks(contribs, num_nodes, beta):\n",
    "    '''\n",
    "    Input: Takes a ranks and graph as input\n",
    "    Output: Returns a tuple of each node neighbours and rank for every iteration\n",
    "    Function: This function calculates the contribution of each neighbour to the rank of each node\n",
    "    '''\n",
    "    vals = contribs.groupByKey()\n",
    "    s = vals.map(lambda x: (x[0],((1-beta)/num_nodes+ (beta*sum(x[1])))))\n",
    "#     s = s.sortBy(lambda a: -a[1])\n",
    "    return s"
   ]
  },
  {
   "cell_type": "code",
   "execution_count": 18,
   "metadata": {},
   "outputs": [
    {
     "data": {
      "text/plain": [
       "[('A', 0.25), ('D', 0.037500000000000006), ('C', 0.56875), ('B', 0.14375)]"
      ]
     },
     "execution_count": 18,
     "metadata": {},
     "output_type": "execute_result"
    }
   ],
   "source": [
    "num_nodes=g.count()\n",
    "calc_ranks(c1, num_nodes , beta=0.85).collect()"
   ]
  },
  {
   "cell_type": "code",
   "execution_count": 19,
   "metadata": {},
   "outputs": [],
   "source": [
    "def pagerank(fname, beta=0.85, n=10):\n",
    "    '''\n",
    "    Input: Takes the file name, beta and the number of iterations\n",
    "    Output: Returns each node and its corresponding rank\n",
    "    Function: This function calculates the page rank of each node by calling the above functions and assigns a page rank\n",
    "    '''\n",
    "    b= beta\n",
    "    g = read_graph(fname)\n",
    "    r = init_ranks(g)\n",
    "    num = g.count()\n",
    "    for i in range(0,n):\n",
    "        c1 = calc_contribs(r, g)\n",
    "        r = calc_ranks(c1, num, b)\n",
    "    return r.collect()"
   ]
  },
  {
   "cell_type": "code",
   "execution_count": 16,
   "metadata": {},
   "outputs": [
    {
     "name": "stdout",
     "output_type": "stream",
     "text": [
      "[('A', 0.375054382302053), ('B', 0.1949370588413849), ('C', 0.3925085588565621), ('D', 0.037500000000000006)]\n"
     ]
    }
   ],
   "source": [
    "sorted(pagerank('graph-1.txt', beta=0.85, n=10))"
   ]
  },
  {
   "cell_type": "raw",
   "metadata": {},
   "source": [
    "[('A', 0.375054382302053),\n",
    " ('B', 0.1949370588413849),\n",
    " ('C', 0.3925085588565621),\n",
    " ('D', 0.037500000000000006)]"
   ]
  },
  {
   "cell_type": "code",
   "execution_count": 17,
   "metadata": {},
   "outputs": [
    {
     "name": "stdout",
     "output_type": "stream",
     "text": [
      "[('A', 0.3552329235133619), ('B', 0.18087715033826585), ('C', 0.26671408227310545), ('D', 0.08133891194042742), ('E', 0.11583693193483957)]\n"
     ]
    }
   ],
   "source": [
    "sorted(pagerank('graph-2.txt', beta=0.85, n=10))"
   ]
  },
  {
   "cell_type": "code",
   "execution_count": 18,
   "metadata": {},
   "outputs": [
    {
     "name": "stdout",
     "output_type": "stream",
     "text": [
      "[('A', 0.027646509310404344), ('B', 0.3036191818465732), ('C', 0.30972957233259435), ('D', 0.03297885857776607), ('E', 0.06821469112858616), ('F', 0.03297885857776607), ('G', 0.01363636363636364), ('H', 0.01363636363636364), ('I', 0.01363636363636364), ('J', 0.01363636363636364), ('K', 0.01363636363636364)]\n"
     ]
    }
   ],
   "source": [
    "sorted(pagerank('wikipedia-example.txt', beta=0.85, n=10))"
   ]
  }
 ],
 "metadata": {
  "kernelspec": {
   "display_name": "Python 3",
   "language": "python",
   "name": "python3"
  },
  "language_info": {
   "codemirror_mode": {
    "name": "ipython",
    "version": 3
   },
   "file_extension": ".py",
   "mimetype": "text/x-python",
   "name": "python",
   "nbconvert_exporter": "python",
   "pygments_lexer": "ipython3",
   "version": "3.6.7"
  }
 },
 "nbformat": 4,
 "nbformat_minor": 2
}
